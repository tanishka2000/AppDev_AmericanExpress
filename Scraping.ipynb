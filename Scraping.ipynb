{
  "nbformat": 4,
  "nbformat_minor": 0,
  "metadata": {
    "colab": {
      "name": "Scraping.ipynb",
      "provenance": [],
      "authorship_tag": "ABX9TyOciM4Dt7UeJI7c5YEw8mI4",
      "include_colab_link": true
    },
    "kernelspec": {
      "name": "python3",
      "display_name": "Python 3"
    }
  },
  "cells": [
    {
      "cell_type": "markdown",
      "metadata": {
        "id": "view-in-github",
        "colab_type": "text"
      },
      "source": [
        "<a href=\"https://colab.research.google.com/github/tanishka2000/AppDev_AmericanExpress/blob/main/Scraping.ipynb\" target=\"_parent\"><img src=\"https://colab.research.google.com/assets/colab-badge.svg\" alt=\"Open In Colab\"/></a>"
      ]
    },
    {
      "cell_type": "code",
      "metadata": {
        "id": "rFH6werl_eDe"
      },
      "source": [
        "import praw"
      ],
      "execution_count": 23,
      "outputs": []
    },
    {
      "cell_type": "code",
      "metadata": {
        "id": "scyLckosAUmP"
      },
      "source": [
        "reddit = praw.Reddit(client_id='lAmRAR07OGCEzw', client_secret='voOuxMFvaSeQJng826GAhxCiTi1EVQ', user_agent='tanishka2000')\n"
      ],
      "execution_count": 24,
      "outputs": []
    },
    {
      "cell_type": "code",
      "metadata": {
        "id": "y49mHTFHO8dp"
      },
      "source": [
        "# get 10 hot posts from the MachineLearning subreddit\n",
        "hot_posts = reddit.subreddit('CreditCard').hot(limit=10)\n",
        "for post in hot_posts:\n",
        "    print(post.title)"
      ],
      "execution_count": null,
      "outputs": []
    },
    {
      "cell_type": "code",
      "metadata": {
        "colab": {
          "base_uri": "https://localhost:8080/",
          "height": 195
        },
        "id": "Ha7yT95OPAl0",
        "outputId": "c937e684-f197-4b02-ca49-4eed60884a62"
      },
      "source": [
        "import pandas as pd\n",
        "posts = []\n",
        "ml_subreddit = reddit.subreddit('CreditCard')\n",
        "for post in ml_subreddit.hot(limit=10):\n",
        "    posts.append([post.title, post.score, post.id, post.subreddit, post.url, post.num_comments, post.selftext, post.created])\n",
        "posts = pd.DataFrame(posts,columns=['title', 'score', 'id', 'subreddit', 'url', 'num_comments', 'body', 'created'])\n",
        "data_top = posts.head()  \n",
        "    \n",
        "# display  \n",
        "data_top  "
      ],
      "execution_count": 32,
      "outputs": [
        {
          "output_type": "execute_result",
          "data": {
            "text/html": [
              "<div>\n",
              "<style scoped>\n",
              "    .dataframe tbody tr th:only-of-type {\n",
              "        vertical-align: middle;\n",
              "    }\n",
              "\n",
              "    .dataframe tbody tr th {\n",
              "        vertical-align: top;\n",
              "    }\n",
              "\n",
              "    .dataframe thead th {\n",
              "        text-align: right;\n",
              "    }\n",
              "</style>\n",
              "<table border=\"1\" class=\"dataframe\">\n",
              "  <thead>\n",
              "    <tr style=\"text-align: right;\">\n",
              "      <th></th>\n",
              "      <th>title</th>\n",
              "      <th>score</th>\n",
              "      <th>id</th>\n",
              "      <th>subreddit</th>\n",
              "      <th>url</th>\n",
              "      <th>num_comments</th>\n",
              "      <th>body</th>\n",
              "      <th>created</th>\n",
              "    </tr>\n",
              "  </thead>\n",
              "  <tbody>\n",
              "    <tr>\n",
              "      <th>0</th>\n",
              "      <td>5 best cashback credit cards 2015</td>\n",
              "      <td>1</td>\n",
              "      <td>3jdldp</td>\n",
              "      <td>creditcard</td>\n",
              "      <td>http://www.wisebread.com/5-best-cash-back-cred...</td>\n",
              "      <td>0</td>\n",
              "      <td></td>\n",
              "      <td>1.441241e+09</td>\n",
              "    </tr>\n",
              "    <tr>\n",
              "      <th>1</th>\n",
              "      <td>Reviewing the Reviewers x post from /r/persona...</td>\n",
              "      <td>1</td>\n",
              "      <td>3jdl1r</td>\n",
              "      <td>creditcard</td>\n",
              "      <td>https://www.reddit.com/r/personalfinance/comme...</td>\n",
              "      <td>0</td>\n",
              "      <td></td>\n",
              "      <td>1.441241e+09</td>\n",
              "    </tr>\n",
              "    <tr>\n",
              "      <th>2</th>\n",
              "      <td>How the Next iPhone Could Finally Kill the Cre...</td>\n",
              "      <td>0</td>\n",
              "      <td>2fmjkz</td>\n",
              "      <td>creditcard</td>\n",
              "      <td>http://www.wired.com/2014/09/iphone-credit-card/</td>\n",
              "      <td>0</td>\n",
              "      <td></td>\n",
              "      <td>1.410024e+09</td>\n",
              "    </tr>\n",
              "    <tr>\n",
              "      <th>3</th>\n",
              "      <td>Seniors carry more credit card debt</td>\n",
              "      <td>1</td>\n",
              "      <td>1703ue</td>\n",
              "      <td>creditcard</td>\n",
              "      <td>http://www.rgj.com/article/20130121/BIZ10/3012...</td>\n",
              "      <td>0</td>\n",
              "      <td></td>\n",
              "      <td>1.358823e+09</td>\n",
              "    </tr>\n",
              "    <tr>\n",
              "      <th>4</th>\n",
              "      <td>52 Reasons to Vote for Obama: #16, Cut Unfair ...</td>\n",
              "      <td>2</td>\n",
              "      <td>125it2</td>\n",
              "      <td>creditcard</td>\n",
              "      <td>http://www.huffingtonpost.com/bernard-whitman/...</td>\n",
              "      <td>0</td>\n",
              "      <td></td>\n",
              "      <td>1.351328e+09</td>\n",
              "    </tr>\n",
              "  </tbody>\n",
              "</table>\n",
              "</div>"
            ],
            "text/plain": [
              "                                               title  score  ... body       created\n",
              "0                  5 best cashback credit cards 2015      1  ...       1.441241e+09\n",
              "1  Reviewing the Reviewers x post from /r/persona...      1  ...       1.441241e+09\n",
              "2  How the Next iPhone Could Finally Kill the Cre...      0  ...       1.410024e+09\n",
              "3                Seniors carry more credit card debt      1  ...       1.358823e+09\n",
              "4  52 Reasons to Vote for Obama: #16, Cut Unfair ...      2  ...       1.351328e+09\n",
              "\n",
              "[5 rows x 8 columns]"
            ]
          },
          "metadata": {
            "tags": []
          },
          "execution_count": 32
        }
      ]
    },
    {
      "cell_type": "code",
      "metadata": {
        "id": "cuaQBm-0P0et"
      },
      "source": [
        "# get Credit Card subreddit data\n",
        "ml_subreddit = reddit.subreddit('CreditCards')\n",
        "\n",
        "print(ml_subreddit.description)"
      ],
      "execution_count": null,
      "outputs": []
    },
    {
      "cell_type": "code",
      "metadata": {
        "id": "tgW7_vCVQFzq"
      },
      "source": [
        "submission = reddit.submission(url=\"https://old.reddit.com/r/india/comments/jmq3f5/hello_rindia_i_would_like_to_know_which_is_the/\")\n",
        "\n",
        "#submission = reddit.submission(id=\"jmq3f5\")"
      ],
      "execution_count": 35,
      "outputs": []
    },
    {
      "cell_type": "code",
      "metadata": {
        "id": "LiZ4fISUQbpk"
      },
      "source": [
        "from praw.models import MoreComments\n",
        "for top_level_comment in submission.comments:\n",
        "    if isinstance(top_level_comment, MoreComments):\n",
        "        continue\n",
        "    print(top_level_comment.body)"
      ],
      "execution_count": null,
      "outputs": []
    },
    {
      "cell_type": "code",
      "metadata": {
        "id": "bnue-hqOQkq2"
      },
      "source": [
        "submission.comments.replace_more(limit=0)\n",
        "for top_level_comment in submission.comments:\n",
        "    print(top_level_comment.body)"
      ],
      "execution_count": null,
      "outputs": []
    },
    {
      "cell_type": "code",
      "metadata": {
        "id": "lXpfIIXyQyhM"
      },
      "source": [
        "submission.comments.replace_more(limit=0)\n",
        "#creating a list\n",
        "comments_jmq3f5 = []\n",
        "for comment in submission.comments.list():\n",
        "    comments_jmq3f5.append(comment.body)"
      ],
      "execution_count": 40,
      "outputs": []
    },
    {
      "cell_type": "code",
      "metadata": {
        "colab": {
          "base_uri": "https://localhost:8080/"
        },
        "id": "omSqUTa9Q3Ng",
        "outputId": "d8cacb24-b584-46e1-928e-fa9ab84f78f1"
      },
      "source": [
        "comments_jmq3f5"
      ],
      "execution_count": 42,
      "outputs": [
        {
          "output_type": "execute_result",
          "data": {
            "text/plain": [
              "[\"Rewards are something your receive for spending. And to get a decent reward  you need to spend a sizeable amount.\\nBelieve me, you wouldn't want to get into that trap. \\n\\nMy opinion would be to stick with your current card and pay your dues on time so that the score remains good.\",\n",
              " \"You don't get issued high reward credit cards for having a good credit score. There is no relation between these two.\\n\\nAnd you don't chase rewards by spending more. You should get rewards because you spend more.\\n\\nCredit card with high rewards is useful if you are spending a good amount. Might even be worthwhile to pay the annual charges for a card if the rewards are really good.\\n\\nWhat's your monthly income? Some cards have income requirement because spending is directly proportional to income.\\n\\nNow coming to how you can use the high credit score.\\n\\nYou could ask the bank to extend your credit limit.\\n\\nYou would also possibly get good interest rates on loans (for e.g housing loan or car loan) again depending on income and credit score. But the credit score given by CRED is not what banks rely on. They rely on CIBIL score (but if your Experian/CRIF score is high then it is likely that your CIBIL score is also high).\\n\\nBtw, you can also measure CIBIL score but you mostly gotta pay. Your bank may give that as a freebie but check with them.\",\n",
              " 'If your ctc is more than 6 LPA then you should go for American Express membership rewards credit card',\n",
              " 'Amazon Pay ICICI credit card.',\n",
              " 'You may try AMEX Platinum Travel (love them, and they upgrade a lot of flights as well, booked through them) or HDFC Regalia',\n",
              " 'RBL has a decent rewards program. I personally found it better than HDFC (use both cards).',\n",
              " 'Citi and HDFC',\n",
              " 'Amazon Pay ICICI and Amex Membership Rewards are good. Amex has a minimum annual spend criteria of 150,000 so best would be to see if you can get Lifetime free card. I like HDFC because there’s an annual sale on Amazon where you can get good cash back so I’d suggest going for that too.\\n\\nJust Google credit card blog India and you’ll see a few good websites dedicated to choosing credit cards and comparing offers and rewards.',\n",
              " \"I don't understand people getting a credit card for rewards. Are they really that good?\\n\\nIs this some sort of bourgeoisie thing that I'm too poor to understand?\",\n",
              " \"The only reason I posted because I believe that I'm a financially responsible guy, and doesn't spend on material things much. I'm sure I would not get into this trap, it is just that if I'm spending this much amount on some big spends monthly anyways I can use credit card for it. Thanks for the suggestion.\",\n",
              " \"CRED mentions that they pull credit score data from CRIF.  My salary unfortunately is not that high, it's around 40k a month.\",\n",
              " 'Lmao, looked it up. Amex platinum Travel card requirements is that your minimum salary is upwards of 25 lakhs. May be in 10 years, I will look for it. Thanks anyway.',\n",
              " \"Usually the one who look for rewards are the ones who intend to use the card the most. E.g. if it's a company funded card and you use it for your official activities, though the amount spent on the card would be reimbursed by the company the rewards are something that you can use for yourself..\\nOr someone who is a frequent flyer, he can use the miles club card to get a business class ticket if he racks up enough reward points.\",\n",
              " \"They are really that good if you work it out. Totally depends on your expense level.\\n\\nI could easily take my expenses to above 40k per month (by including my rent - yes, you can pay rent with CC) so with that you get a lot of points.\\n\\nWith the points what you get with most cards is discounts on lifestyle expenses - hotels, flights, experiences etc. etc.\\n\\nIf you spend prudently and smartly (using the right medium for the transaction) you could use these points for stuff that you'd otherwise not pay for. Or probably save up on those critical expenses.\\n\\nI have booked flights for less than 30% of actual flight fare by using my reward points.\\n\\nIt is also a bourgeoisie thing. A high rewards credit card is also a status symbol for many.\",\n",
              " \"Kinda. Depends on the kind of stuff you purchase, and where you purchase them from. I'm not even a frivolous spender by any means, but my SBI card gives me 500/- back on every 20,000 that I spend on Amazon. Not a lot, I know, but it adds up. Especially when you account for all the electronics, smartphones, and other stuff that are Amazon exclusives anyway, so you'd have bought them from Amazon with or without a cc. And my yearly fees gets waived off, too. The added convenience of no cost EMI, chargeback feature and occasional coupons are additional benefits that debit cards don't offer. Mind you, this is over and above the cashback/discounts that are advertised on websites. It REALLY adds up. But all this means nothing if you are not careful with your money, and end up getting your account bled dry for not doing timely payments. Financial charges exists to bleed careless customers.\",\n",
              " \"CRED gives two scores - CRIF and Experian. What banks use is CIBIL.\\n\\nI'm using CRED for more than a year now.\\n\\nFor your current income level, stick to the current credit card. You'd have to spend disproportionately high (relative to your income) to get any useful rewards.\",\n",
              " 'That’s for their “Platinum” metal card it’s membership fees is upwards of 60k annually. “Platinum Travel” is easier to get',\n",
              " 'So it is a bourgeoisie thing!\\n\\nThanks.',\n",
              " 'It sounds like a complicated trap. But I will look more into this.\\n\\nChenqui',\n",
              " '> no cost EMI\\n\\nWawaweewa! I got to bank tomorrow!',\n",
              " 'Thanks, overall impression is just this only, will have to stick with current one.',\n",
              " 'Not really. Try to pay all your expenses via credit card. And most importantly, ensure you are paying the full due amount at least 2 days before the due date.  \\n10 years back, I had a Manhattan card and the offers and rewards were pretty good on that. Now I have an ICICI and HDFC one, choosing the one which has better deals during the month. I am diligent in paying back the due.  \\nICICI has tieup with Payback, which you can redeem the points at different outlets and for gift cards. So essentially, getting free stuff for things you would anyway spend on.',\n",
              " 'Never understood the comment \"it\\'s a trap\" that\\'s commonly flouted for credit card.\\n\\nYou should not spend more for credit card rewards. Your expense, no matter what payment method you use, should be with the below mantra.\\n\\nExpense = Income - Savings\\n\\nYou then choose a card that gives you the best reward for your expense level. Not the other way round.\\n\\nAs long as the mantra is held up, you\\'ll never default. There is really no trap.\\n\\nI have been paying using credit cards for over 4-5 years. Have paid 0 hidden charges or stuff like that.',\n",
              " \"Not everyone is as disciplined or sensible as you. In fact, that's what the banks are counting on.\",\n",
              " \"Yeah I don't disagree with your sentiment. Just that I find it difficult to understand why someone would not be disciplined about money.\\n\\nIt's not that CC is a trap. They are an excellent way to manage liquidity. Especially if you are a salaried person.\\n\\nI'm not disciplined otherwise but one cannot fool around with money unless they have quite a lot lying around.\"]"
            ]
          },
          "metadata": {
            "tags": []
          },
          "execution_count": 42
        }
      ]
    },
    {
      "cell_type": "code",
      "metadata": {
        "id": "PlntIu4QSlol"
      },
      "source": [
        ""
      ],
      "execution_count": null,
      "outputs": []
    }
  ]
}